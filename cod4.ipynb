{
 "cells": [
  {
   "cell_type": "code",
   "execution_count": 91,
   "metadata": {
    "dotnet_interactive": {
     "language": "csharp"
    },
    "polyglot_notebook": {
     "kernelName": "csharp"
    }
   },
   "outputs": [
    {
     "data": {
      "text/html": [
       "<div><div></div><div></div><div><strong>Installed Packages</strong><ul><li><span>ScottPlot, 4.1.29</span></li><li><span>xunit, 2.8.1</span></li></ul></div></div>"
      ]
     },
     "metadata": {},
     "output_type": "display_data"
    }
   ],
   "source": [
    "#r \"nuget: xunit, 2.8.1\"\n",
    "#r \"nuget: ScottPlot, 4.1.29\"\n",
    "\n",
    "using System;\n",
    "using System.Threading;\n",
    "using System.Linq;\n",
    "using Xunit;\n",
    "using ScottPlot;\n",
    "using System.Diagnostics;\n",
    "\n",
    "class DefiniteIntegral \n",
    "{ \n",
    "    public static double OneThread(double a, double b, Func<double, double> function, double step) \n",
    "    { \n",
    "        double result = 0.0;\n",
    "        for (double i = a; i < b; i += step)\n",
    "        {\n",
    "            result += (function(i) + function(i + step)) * step / 2;\n",
    "        }\n",
    "        return result; \n",
    "    } \n",
    "\n",
    "    public static double ManyThreads(double a, double b, Func<double, double> function, double step, int threadsnumber) \n",
    "    { \n",
    "        long resultat = 0; \n",
    "        Barrier barrier = new Barrier(threadsnumber);     \n",
    "        Thread[] threads = Enumerable.Range(0, threadsnumber).Select(index => \n",
    "        { \n",
    "            Thread thread = new Thread(() => \n",
    "            { \n",
    "                double tResultat = 0.0; \n",
    "                double start = a + index * ((b - a) / threadsnumber); \n",
    "                double end = start + ((b - a) / threadsnumber); \n",
    "\n",
    "                for (double i = start; i < end; i += step) \n",
    "                { \n",
    "                    tResultat += (function(i) + function(i + step)) * step * 0.5; \n",
    "                } \n",
    "\n",
    "                Interlocked.Add(ref resultat, (long)(tResultat * 1e5)); \n",
    "            }); \n",
    "\n",
    "            thread.Start(); \n",
    "            return thread; \n",
    "        }).ToArray(); \n",
    "\n",
    "        foreach (Thread thread in threads) \n",
    "        { \n",
    "            thread.Join(); \n",
    "        }\n",
    "\n",
    "        return resultat / 1e5; \n",
    "    } \n",
    "}"
   ]
  },
  {
   "cell_type": "code",
   "execution_count": 92,
   "metadata": {
    "dotnet_interactive": {
     "language": "csharp"
    },
    "polyglot_notebook": {
     "kernelName": "csharp"
    }
   },
   "outputs": [],
   "source": [
    "(double resultat, double PrTime) Time(Func<double, double, Func<double, double>, double, double> func, double a, double b, Func<double, double> function, double step)\n",
    "{\n",
    "    var stopwatch = Stopwatch.StartNew();\n",
    "    double resultat = func(a, b, function, step);\n",
    "    stopwatch.Stop();\n",
    "    return (resultat, stopwatch.Elapsed.TotalSeconds);\n",
    "}"
   ]
  },
  {
   "cell_type": "code",
   "execution_count": 93,
   "metadata": {
    "dotnet_interactive": {
     "language": "csharp"
    },
    "polyglot_notebook": {
     "kernelName": "csharp"
    }
   },
   "outputs": [
    {
     "name": "stdout",
     "output_type": "stream",
     "text": [
      "Шаг = 0.1 ▶️ интеграл = -0.04620566619422959 ▶️ время = 0.000217 с ▶️ точность = 0.0462\n",
      "Шаг = 0.01 ▶️ интеграл = -1.4438805186200998E-11 ▶️ время = 0.0006245 с ▶️ точность = 0.0000\n",
      "Оптимальный размер шага ✅ 0.01\n"
     ]
    }
   ],
   "source": [
    "double[] steps = {1e-1, 1e-2, 1e-3, 1e-4, 1e-5, 1e-6};\n",
    "double accuracy = 1e-4;\n",
    "Func<double, double> function = Math.Sin;\n",
    "\n",
    "double ostep = steps[0];\n",
    "\n",
    "foreach (var step in steps)\n",
    "{\n",
    "    var (integral, PrTime) = Time(DefiniteIntegral.OneThread, -100.00, 100.00, function, step);\n",
    "    Console.WriteLine($\"Шаг = {step} ▶️ интеграл = {integral} ▶️ время = {PrTime} с ▶️ точность = {Math.Abs(integral):F4}\");\n",
    "    \n",
    "    if (Math.Abs(integral) <= accuracy)\n",
    "    {\n",
    "        ostep = step;\n",
    "        Console.WriteLine($\"Оптимальный размер шага ✅ {ostep}\");\n",
    "        break;\n",
    "    }\n",
    "}"
   ]
  },
  {
   "cell_type": "code",
   "execution_count": 94,
   "metadata": {
    "dotnet_interactive": {
     "language": "csharp"
    },
    "polyglot_notebook": {
     "kernelName": "csharp"
    }
   },
   "outputs": [
    {
     "name": "stdout",
     "output_type": "stream",
     "text": [
      "Количество потоков = 2 ▶️ время ⏱ = 0.0020138 секунды\n",
      "Количество потоков = 3 ▶️ время ⏱ = 0.0010884 секунды\n",
      "Количество потоков = 4 ▶️ время ⏱ = 0.0013911 секунды\n",
      "Количество потоков = 5 ▶️ время ⏱ = 0.0013079 секунды\n",
      "Количество потоков = 6 ▶️ время ⏱ = 0.0016309 секунды\n",
      "Количество потоков = 7 ▶️ время ⏱ = 0.0023487 секунды\n",
      "Количество потоков = 8 ▶️ время ⏱ = 0.0018057 секунды\n",
      "Количество потоков = 9 ▶️ время ⏱ = 0.0022172 секунды\n"
     ]
    }
   ],
   "source": [
    "int[] kolThreads = { 2, 3, 4, 5, 6, 7, 8, 9 };\n",
    "var ManyThreadsTimes = new List<double>();\n",
    "foreach (var num in kolThreads)\n",
    "{\n",
    "    var (_, PrTime) = Time((a, b, func, step) => DefiniteIntegral.ManyThreads(a, b, func, step, num), -100.00, 100.00, function, ostep);\n",
    "    ManyThreadsTimes.Add(PrTime);\n",
    "    Console.WriteLine($\"Количество потоков = {num} ▶️ время ⏱ = {PrTime} секунды\");\n",
    "}"
   ]
  },
  {
   "cell_type": "code",
   "execution_count": 95,
   "metadata": {
    "dotnet_interactive": {
     "language": "csharp"
    },
    "polyglot_notebook": {
     "kernelName": "csharp"
    }
   },
   "outputs": [],
   "source": [
    "var plot = new ScottPlot.Plot(700, 500);\n",
    "plot.AddScatter(kolThreads.Select(n => (double)n).ToArray(), ManyThreadsTimes.ToArray());\n",
    "plot.Title(\"Время выполнения в зависимости от количества потоков⏱\");\n",
    "plot.XLabel(\"Количество потоков\");\n",
    "plot.YLabel(\"Время выполнения в секундах⏱\");\n",
    "plot.SaveFig(\"graf.png\");"
   ]
  },
  {
   "cell_type": "code",
   "execution_count": 96,
   "metadata": {
    "dotnet_interactive": {
     "language": "csharp"
    },
    "polyglot_notebook": {
     "kernelName": "csharp"
    }
   },
   "outputs": [
    {
     "name": "stdout",
     "output_type": "stream",
     "text": [
      "Время выполнения в однопоточном режиме  0.0006 секунд ⏱\n",
      "Время выполнения в многопоточном режиме с 3 потоками: 0.0011 секунд ⏱\n",
      "Ускорение: 0.53\n",
      "Увеличение производительности: -88.60%\n",
      "\n",
      "Итог:\n",
      "👣 Оптимальный размер шага = 0.01\n",
      "🔁 Оптимальное количество потоков = 3\n",
      "⏱ Время выполнения в однопоточном режиме = 0.0006 секунд\n",
      "⏱ Время выполнения в многопоточном режиме с 3 потоками = 0.0011 секунд\n",
      "💯 Ускорение = 0.53x\n",
      "📈 Увеличение производительности = 88.60%\n",
      "\n"
     ]
    }
   ],
   "source": [
    "double oManyThreadTime = ManyThreadsTimes.Min();\n",
    "int oThreads = kolThreads[ManyThreadsTimes.IndexOf(oManyThreadTime)];\n",
    "var (singleThreadIntegral, OneThreadTime) = Time(DefiniteIntegral.OneThread, -100.00, 100.00, function, ostep);\n",
    "Console.WriteLine($\"Время выполнения в однопоточном режиме  {OneThreadTime:F4} секунд ⏱\");\n",
    "Console.WriteLine($\"Время выполнения в многопоточном режиме с {oThreads} потоками: {oManyThreadTime:F4} секунд ⏱\");\n",
    "Console.WriteLine($\"Ускорение: {OneThreadTime/oManyThreadTime:F2}\");\n",
    "Console.WriteLine($\"Увеличение производительности: {(OneThreadTime - oManyThreadTime) / OneThreadTime * 100:F2}%\");\n",
    "\n",
    "string itog = $@\"\n",
    "Итог:\n",
    "👣 Оптимальный размер шага = {ostep}\n",
    "🔁 Оптимальное количество потоков = {oThreads}\n",
    "⏱ Время выполнения в однопоточном режиме = {OneThreadTime:F4} секунд\n",
    "⏱ Время выполнения в многопоточном режиме с {oThreads} потоками = {oManyThreadTime:F4} секунд\n",
    "💯 Ускорение = {OneThreadTime / oManyThreadTime:F2}x\n",
    "📈 Увеличение производительности = {(-(OneThreadTime - oManyThreadTime)) / OneThreadTime  * 100 :F2}%\n",
    "\";\n",
    "Console.WriteLine(itog);"
   ]
  }
 ],
 "metadata": {
  "kernelspec": {
   "display_name": ".NET (C#)",
   "language": "C#",
   "name": ".net-csharp"
  },
  "polyglot_notebook": {
   "kernelInfo": {
    "defaultKernelName": "csharp",
    "items": [
     {
      "aliases": [],
      "languageName": "csharp",
      "name": "csharp"
     }
    ]
   }
  }
 },
 "nbformat": 4,
 "nbformat_minor": 2
}
