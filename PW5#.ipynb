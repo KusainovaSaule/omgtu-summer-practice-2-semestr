{
 "cells": [
  {
   "cell_type": "code",
   "execution_count": 3,
   "metadata": {
    "dotnet_interactive": {
     "language": "csharp"
    },
    "polyglot_notebook": {
     "kernelName": "csharp"
    }
   },
   "outputs": [
    {
     "data": {
      "text/html": [
       "<div><div></div><div></div><div><strong>Installed Packages</strong><ul><li><span>ScottPlot, 4.1.29</span></li><li><span>xunit, 2.8.1</span></li></ul></div></div>"
      ]
     },
     "metadata": {},
     "output_type": "display_data"
    }
   ],
   "source": [
    "#r \"nuget: xunit, 2.8.1\"\n",
    "#r \"nuget: ScottPlot, 4.1.29\"\n",
    "\n",
    "using System;\n",
    "using System.Threading;\n",
    "using System.Linq;\n",
    "using Xunit;\n",
    "using ScottPlot;\n",
    "using System.Diagnostics;\n",
    "\n",
    "class DefiniteIntegral \n",
    "{ \n",
    "    public static double OneThread(double a, double b, Func<double, double> function, double step) \n",
    "    { \n",
    "        double result = 0.0;\n",
    "        for (double i = a; i < b; i += step)\n",
    "        {\n",
    "            result += (function(i) + function(i + step)) * step / 2;\n",
    "        }\n",
    "        return result; \n",
    "    } \n",
    "\n",
    "    public static double ManyThreads(double a, double b, Func<double, double> function, double step, int threadsnumber) \n",
    "    { \n",
    "        long resultat = 0; \n",
    "        Barrier barrier = new Barrier(threadsnumber);     \n",
    "        Thread[] threads = Enumerable.Range(0, threadsnumber).Select(index => \n",
    "        { \n",
    "            Thread thread = new Thread(() => \n",
    "            { \n",
    "                double tResultat = 0.0; \n",
    "                double start = a + index * ((b - a) / threadsnumber); \n",
    "                double end = start + ((b - a) / threadsnumber); \n",
    "\n",
    "                for (double i = start; i < end; i += step) \n",
    "                { \n",
    "                    tResultat += (function(i) + function(i + step)) * step * 0.5; \n",
    "                } \n",
    "\n",
    "                Interlocked.Add(ref resultat, (long)(tResultat * 1e5)); \n",
    "            }); \n",
    "\n",
    "            thread.Start(); \n",
    "            return thread; \n",
    "        }).ToArray(); \n",
    "\n",
    "        foreach (Thread thread in threads) \n",
    "        { \n",
    "            thread.Join(); \n",
    "        }\n",
    "\n",
    "        return resultat / 1e5; \n",
    "    } \n",
    "}"
   ]
  },
  {
   "cell_type": "code",
   "execution_count": null,
   "metadata": {
    "dotnet_interactive": {
     "language": "csharp"
    },
    "polyglot_notebook": {
     "kernelName": "csharp"
    },
    "vscode": {
     "languageId": "csharp"
    }
   },
   "outputs": [],
   "source": [
    "using System.Collections.Concurrent;\n",
    "var queue1 = new BlockingCollection<Message>(2);\n",
    "var queue2 = new BlockingCollection<Message>(2);"
   ]
  },
  {
   "cell_type": "code",
   "execution_count": null,
   "metadata": {
    "dotnet_interactive": {
     "language": "csharp"
    },
    "polyglot_notebook": {
     "kernelName": "csharp"
    },
    "vscode": {
     "languageId": "csharp"
    }
   },
   "outputs": [],
   "source": [
    "using System.Collections.Concurrent; \n",
    "using System.Threading; \n",
    "var queue1 = new BlockingCollection<Message>(2);\n",
    "var queue2 = new BlockingCollection<Message>(2);\n",
    "Barrier barrier = new Barrier(2); \n",
    "Thread thread1= new Thread(()=> { \n",
    "     for(int i=0; i<100; i++) \n",
    "     { \n",
    "         Message message = queue1.Take(); \n",
    "         message.Handle(); \n",
    "         queue2.Add(new Message()); \n",
    "     } \n",
    "     barrier.SignalAndWait(); \n",
    "     }); \n",
    "     \n",
    " Thread thread2 = new Thread(()=> \n",
    " { \n",
    "     for(int i =0; i<100; i++) \n",
    "     { \n",
    "         Message message = queue2.Take(); \n",
    "         message.Handle(); \n",
    "         queue1.Add(new Message()); \n",
    "     } \n",
    "     barrier.SignalAndWait(); \n",
    " }); \n",
    "\n",
    " thread1.Start(); \n",
    " thread2.Start(); \n",
    "\n",
    " Message pervMessage = new Message(); \n",
    " queue1.Add(pervMessage); \n",
    " thread1.Join(); \n",
    " thread2.Join(); \n",
    " Message poslMessage = queue1.Take();"
   ]
  },
  {
   "cell_type": "code",
   "execution_count": null,
   "metadata": {
    "dotnet_interactive": {
     "language": "csharp"
    },
    "polyglot_notebook": {
     "kernelName": "csharp"
    },
    "vscode": {
     "languageId": "csharp"
    }
   },
   "outputs": [],
   "source": [
    "Assert.Equal(0, queue1.Count);\n",
    "Assert.Equal(0, queue2.Count);\n",
    "Message.Check();"
   ]
  }
 ],
 "metadata": {
  "kernelspec": {
   "display_name": ".NET (C#)",
   "language": "C#",
   "name": ".net-csharp"
  },
  "polyglot_notebook": {
   "kernelInfo": {
    "defaultKernelName": "csharp",
    "items": [
     {
      "aliases": [],
      "languageName": "csharp",
      "name": "csharp"
     }
    ]
   }
  }
 },
 "nbformat": 4,
 "nbformat_minor": 2
}
