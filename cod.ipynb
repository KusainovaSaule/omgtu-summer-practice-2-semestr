{
 "cells": [
  {
   "cell_type": "code",
   "execution_count": null,
   "metadata": {
    "dotnet_interactive": {
     "language": "csharp"
    },
    "polyglot_notebook": {
     "kernelName": "csharp"
    }
   },
   "outputs": [],
   "source": [
    "#r \"nuget: xunit, 2.8.1\"\n",
    "using System;\n",
    "using System.Threading;\n",
    "using System.Linq;\n",
    "using Xunit;\n",
    "\n",
    "class DefiniteIntegral\n",
    "{\n",
    "    //\n",
    "    // a, b - границы отрезка, на котором происходит вычисление опредленного интеграла\n",
    "    // function - функция, для которой вычисляется определнный интеграл\n",
    "    // step - размер одного шага разбиения\n",
    "    // threadsnumber - число потоков, которые используются для вычислений\n",
    "    //\n",
    "    public static double Solve(double a, double b, Func<double, double> function, double step, int threadsnumber)\n",
    "    {\n",
    "       long resultat = 0;\n",
    "       Barrier barrier = new Barrier(threadsnumber);    \n",
    "    Thread[] threads = Enumerable.Range(0, threadsnumber).Select(index =>\n",
    "            {\n",
    "                Thread thread = new Thread(() =>\n",
    "                {\n",
    "                    double tResultat = 0.0;\n",
    "                    double start = a + index * ((b - a) / threadsnumber);\n",
    "                    double end = start + ((b - a) / threadsnumber);\n",
    "\n",
    "                    for (double i = start; i < end; i += step)\n",
    "                    {\n",
    "                        tResultat += (function(i) + function(i + step)) * step *0.5;\n",
    "                    }\n",
    "\n",
    "                    Interlocked.Add(ref resultat, (long)(tResultat * 1e5));\n",
    "                });\n",
    "\n",
    "                thread.Start();\n",
    "                return thread;\n",
    "            })\n",
    "            .ToArray();\n",
    "\n",
    "        foreach (Thread thread in threads)\n",
    "        {\n",
    "            thread.Join();\n",
    "        }\n",
    "      \n",
    "        return Math.Round(resultat / 1e5);\n",
    "    }\n",
    "}"
   ]
  },
  {
   "cell_type": "code",
   "execution_count": null,
   "metadata": {
    "dotnet_interactive": {
     "language": "csharp"
    },
    "polyglot_notebook": {
     "kernelName": "csharp"
    }
   },
   "outputs": [],
   "source": [
    "var X = (double x) => x;\n",
    "Assert.Equal(0, DefiniteIntegral.Solve(-1, 1, X, 1e-4, 2), 1e-4);"
   ]
  },
  {
   "cell_type": "code",
   "execution_count": null,
   "metadata": {
    "dotnet_interactive": {
     "language": "csharp"
    },
    "polyglot_notebook": {
     "kernelName": "csharp"
    }
   },
   "outputs": [],
   "source": [
    "var SIN = (double x) => Math.Sin(x);\n",
    "Assert.Equal(0, DefiniteIntegral.Solve(-1, 1, SIN, 1e-5, 8), 1e-4);"
   ]
  },
  {
   "cell_type": "code",
   "execution_count": null,
   "metadata": {
    "dotnet_interactive": {
     "language": "csharp"
    },
    "polyglot_notebook": {
     "kernelName": "csharp"
    }
   },
   "outputs": [],
   "source": [
    "var X = (double x) => x;\n",
    "Assert.Equal(50, DefiniteIntegral.Solve(0, 10, X, 1e-6, 8), 1e-5);"
   ]
  }
 ],
 "metadata": {
  "kernelspec": {
   "display_name": ".NET (C#)",
   "language": "C#",
   "name": ".net-csharp"
  },
  "polyglot_notebook": {
   "kernelInfo": {
    "defaultKernelName": "csharp",
    "items": [
     {
      "aliases": [],
      "languageName": "csharp",
      "name": "csharp"
     }
    ]
   }
  }
 },
 "nbformat": 4,
 "nbformat_minor": 2
}
